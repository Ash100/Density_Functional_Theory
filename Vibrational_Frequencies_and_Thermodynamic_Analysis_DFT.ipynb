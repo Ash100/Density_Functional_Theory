{
  "nbformat": 4,
  "nbformat_minor": 0,
  "metadata": {
    "colab": {
      "provenance": [],
      "authorship_tag": "ABX9TyPyRd5vVmCVH0GIAHKML9/8",
      "include_colab_link": true
    },
    "kernelspec": {
      "name": "python3",
      "display_name": "Python 3"
    },
    "language_info": {
      "name": "python"
    }
  },
  "cells": [
    {
      "cell_type": "markdown",
      "metadata": {
        "id": "view-in-github",
        "colab_type": "text"
      },
      "source": [
        "<a href=\"https://colab.research.google.com/github/Ash100/Density_Functional_Theory/blob/main/Vibrational_Frequencies_and_Thermodynamic_Analysis_DFT.ipynb\" target=\"_parent\"><img src=\"https://colab.research.google.com/assets/colab-badge.svg\" alt=\"Open In Colab\"/></a>"
      ]
    },
    {
      "cell_type": "markdown",
      "source": [
        "My name is **Dr. Ashfaq Ahmad**, working in the field of structure biology and bioinformatics. The DFT notebook is designed for teaching and research purposes. Commercial usage of this code is prohibited. Detailed video tutorial of this notebook can be found on [Bioinformatic Insights](www.youtube.com/@Bioinformaticsinsights).\n",
        "\n",
        "This notebook calculates the Vibrational Frequencies and thermodynamic properties. For basic DFT calculation please look in [Here](here)."
      ],
      "metadata": {
        "id": "OC6tIDXG4ATL"
      }
    },
    {
      "cell_type": "code",
      "execution_count": null,
      "metadata": {
        "id": "SassFozJfjAe"
      },
      "outputs": [],
      "source": [
        "#@title Install necessary libraries\n",
        "!pip install pyscf ase matplotlib numpy ipywidgets pubchempy rdkit reportlab"
      ]
    },
    {
      "cell_type": "code",
      "source": [
        "#@title Import libraries\n",
        "from pyscf import gto, dft, hessian\n",
        "import matplotlib.pyplot as plt\n",
        "import numpy as np"
      ],
      "metadata": {
        "id": "LpRnZYdv6WbP"
      },
      "execution_count": 2,
      "outputs": []
    },
    {
      "cell_type": "markdown",
      "source": [
        "# Explanation: Introduction to Frequency Calculations\n",
        "\"\"\"\n",
        "# Frequency Calculations in Quantum Chemistry\n",
        "\n",
        "Frequency calculations are used to determine the vibrational frequencies of a molecule. These frequencies correspond to the normal modes of vibration, which are collective motions of the atoms in the molecule. The frequencies are related to the second derivatives of the energy with respect to the nuclear coordinates (Hessian matrix).\n",
        "\n",
        "## Key Concepts:\n",
        "1. **Hessian Matrix**: A matrix of second derivatives of the energy with respect to the nuclear coordinates. It describes the curvature of the potential energy surface.\n",
        "2. **Normal Modes**: Collective motions of atoms in a molecule that represent the fundamental vibrations.\n",
        "3. **Vibrational Frequencies**: The frequencies of these normal modes, which can be measured experimentally using techniques like infrared (IR) spectroscopy.\n",
        "\n",
        "## Steps in Frequency Calculations:\n",
        "1. **Geometry Optimization**: The molecule is first optimized to its equilibrium geometry (minimum energy configuration).\n",
        "2. **Hessian Calculation**: The Hessian matrix is computed at the optimized geometry.\n",
        "3. **Frequency Analysis**: The Hessian matrix is diagonalized to obtain the vibrational frequencies and normal modes.\n",
        "\"\"\"\n",
        "\n"
      ],
      "metadata": {
        "id": "zXadvhMdfxew"
      }
    },
    {
      "cell_type": "code",
      "source": [
        "#@title Step 1: Define the Molecule - Example: Water (H2O)\n",
        "mol = gto.Mole()\n",
        "mol.atom = '''\n",
        "O  0.000000  0.000000  0.000000\n",
        "H  0.757000  0.586000  0.000000\n",
        "H -0.757000  0.586000  0.000000\n",
        "'''\n",
        "mol.basis = 'sto-3g'  # Basis set\n",
        "mol.build()"
      ],
      "metadata": {
        "cellView": "form",
        "id": "P9Ln-daVf6xh"
      },
      "execution_count": null,
      "outputs": []
    },
    {
      "cell_type": "markdown",
      "source": [
        "# Explanation: Molecule Definition\n",
        "\"\"\"\n",
        "## Molecule Definition\n",
        "- The molecule is defined using its atomic coordinates.\n",
        "- The `sto-3g` basis set is used for simplicity. For more accurate results, larger basis sets (e.g., `6-31g*`) can be used.\n",
        "\"\"\""
      ],
      "metadata": {
        "id": "wqK4QXCQ7G8a"
      }
    },
    {
      "cell_type": "code",
      "source": [
        "#@title Step 2: Perform Geometry Optimization\n",
        "# Use DFT with B3LYP functional for optimization\n",
        "mf = dft.RKS(mol)\n",
        "mf.xc = 'b3lyp'\n",
        "mf.kernel()"
      ],
      "metadata": {
        "cellView": "form",
        "id": "xLRdksKQ7aOq"
      },
      "execution_count": null,
      "outputs": []
    },
    {
      "cell_type": "markdown",
      "source": [
        "# Explanation: Geometry Optimization\n",
        "\"\"\"\n",
        "## Geometry Optimization\n",
        "- The molecule is optimized to its equilibrium geometry using Density Functional Theory (DFT) with the B3LYP functional.\n",
        "- The optimized geometry corresponds to the minimum energy configuration on the potential energy surface.\n",
        "\"\"\""
      ],
      "metadata": {
        "id": "zej7pWHM7h_s"
      }
    },
    {
      "cell_type": "code",
      "source": [
        "#@title Step 3: Calculate the Hessian Matrix\n",
        "# Compute the Hessian matrix (second derivatives of the energy)\n",
        "hess = mf.Hessian().kernel()\n"
      ],
      "metadata": {
        "cellView": "form",
        "id": "YGJzJvrm7kvZ"
      },
      "execution_count": 5,
      "outputs": []
    },
    {
      "cell_type": "markdown",
      "source": [
        "# Explanation: Hessian Matrix\n",
        "\"\"\"\n",
        "## Hessian Matrix\n",
        "- The Hessian matrix is computed at the optimized geometry.\n",
        "- It describes the curvature of the potential energy surface and is used to determine the vibrational frequencies.\n",
        "\"\"\""
      ],
      "metadata": {
        "id": "koMDUiAj7trF"
      }
    },
    {
      "cell_type": "code",
      "source": [
        "#@title Step 4: Perform Frequency Analysis\n",
        "# Diagonalize the Hessian matrix to obtain vibrational frequencies\n",
        "from pyscf.hessian import thermo\n",
        "freq_info = thermo.harmonic_analysis(mol, hess)\n",
        "\n",
        "# Extract vibrational frequencies (in cm^-1)\n",
        "frequencies = freq_info['freq_wavenumber']"
      ],
      "metadata": {
        "cellView": "form",
        "id": "xzJk-4QO73aA"
      },
      "execution_count": 6,
      "outputs": []
    },
    {
      "cell_type": "markdown",
      "source": [
        "# Explanation: Frequency Analysis\n",
        "\"\"\"\n",
        "## Frequency Analysis\n",
        "- The Hessian matrix is diagonalized to obtain the vibrational frequencies.\n",
        "- The frequencies are given in wavenumbers (cm^-1), which are commonly used in spectroscopy.\n",
        "\"\"\""
      ],
      "metadata": {
        "id": "Nxb_GY0W76Cx"
      }
    },
    {
      "cell_type": "code",
      "source": [
        "#@title Step 5: Visualize the Results\n",
        "# Print the vibrational frequencies\n",
        "print(\"Vibrational Frequencies (cm^-1):\")\n",
        "for i, freq in enumerate(frequencies):\n",
        "    print(f\"Mode {i+1}: {freq:.2f} cm^-1\")\n",
        "\n",
        "# Plot the vibrational frequencies\n",
        "plt.figure(figsize=(8, 6))\n",
        "plt.bar(range(1, len(frequencies) + 1), frequencies, color='blue')\n",
        "plt.xlabel('Vibrational Mode')\n",
        "plt.ylabel('Frequency (cm^-1)')\n",
        "plt.title('Vibrational Frequencies of the Molecule')\n",
        "plt.show()"
      ],
      "metadata": {
        "cellView": "form",
        "id": "76ms1lz47-d5"
      },
      "execution_count": null,
      "outputs": []
    },
    {
      "cell_type": "markdown",
      "source": [
        "# Explanation: Visualization\n",
        "\"\"\"\n",
        "## Visualization of Vibrational Frequencies\n",
        "- The vibrational frequencies are plotted as a bar chart.\n",
        "- Each bar represents a normal mode of vibration.\n",
        "- The height of the bar corresponds to the frequency of the mode.\n",
        "\"\"\""
      ],
      "metadata": {
        "id": "cFFgoA9O8J1V"
      }
    },
    {
      "cell_type": "code",
      "source": [
        "#@title Step 6: Thermodynamic Analysis (Optional)\n",
        "# Calculate thermodynamic properties (e.g., zero-point energy, enthalpy, entropy)\n",
        "thermo_data = thermo.thermo(mf, freq_info['freq_au'], temperature=298.15, pressure=1.0)\n",
        "\n",
        "# Print the structure of thermo_data to debug\n",
        "print(\"Thermo Data Structure:\")\n",
        "print(thermo_data)\n",
        "\n",
        "# Extract thermodynamic properties\n",
        "zpe = thermo_data.get('ZPE', ('N/A', 'N/A'))[0]  # Zero-point energy\n",
        "enthalpy = thermo_data.get('H_tot', ('N/A', 'N/A'))[0]  # Enthalpy\n",
        "entropy = thermo_data.get('S_tot', ('N/A', 'N/A'))[0]  # Entropy\n",
        "\n",
        "# Print thermodynamic properties\n",
        "print(\"\\nThermodynamic Properties:\")\n",
        "print(f\"Zero-Point Energy: {zpe} Hartree\")\n",
        "print(f\"Enthalpy: {enthalpy} Hartree\")\n",
        "print(f\"Entropy: {entropy} Hartree/K\")"
      ],
      "metadata": {
        "cellView": "form",
        "id": "nuNCOmLL8PUi"
      },
      "execution_count": null,
      "outputs": []
    },
    {
      "cell_type": "markdown",
      "source": [
        "# Explanation: Thermodynamic Analysis\n",
        "\"\"\"\n",
        "## Thermodynamic Analysis\n",
        "- The vibrational frequencies are used to calculate thermodynamic properties such as:\n",
        "  - **Zero-Point Energy (ZPE)**: The energy of the molecule at 0 K.\n",
        "  - **Enthalpy**: The total energy of the molecule, including vibrational contributions.\n",
        "  - **Entropy**: A measure of the disorder of the system.\n",
        "- These properties are calculated at a specified temperature (298.15 K) and pressure (1 atm).\n",
        "\"\"\""
      ],
      "metadata": {
        "id": "fIWRdwzf8cB4"
      }
    },
    {
      "cell_type": "code",
      "source": [
        "#@title Step 7: Save Results (Optional)\n",
        "# Save the vibrational frequencies to a file\n",
        "with open('vibrational_frequencies.txt', 'w') as f:\n",
        "    f.write(\"Vibrational Frequencies (cm^-1):\\n\")\n",
        "    for i, freq in enumerate(frequencies):\n",
        "        f.write(f\"Mode {i+1}: {freq:.2f} cm^-1\\n\")"
      ],
      "metadata": {
        "cellView": "form",
        "id": "kDjp-F6e8h5N"
      },
      "execution_count": null,
      "outputs": []
    },
    {
      "cell_type": "markdown",
      "source": [
        "# Explanation: Saving Results\n",
        "\"\"\"\n",
        "## Saving Results\n",
        "- The vibrational frequencies are saved to a text file for further analysis.\n",
        "- This file can be used to compare with experimental data or for additional calculations.\n",
        "\"\"\""
      ],
      "metadata": {
        "id": "cDIzD4uG8lEy"
      }
    },
    {
      "cell_type": "code",
      "source": [
        "#@title Testing your own compounds from the PubChem\n",
        "#!pip install pubchempy rdkit pyscf matplotlib numpy ipywidgets\n",
        "\n",
        "# Import libraries\n",
        "import pubchempy as pcp\n",
        "from rdkit import Chem\n",
        "from rdkit.Chem import AllChem\n",
        "from pyscf import gto, dft, hessian\n",
        "from pyscf.hessian import thermo\n",
        "import matplotlib.pyplot as plt\n",
        "import numpy as np\n",
        "import ipywidgets as widgets\n",
        "from IPython.display import display\n",
        "\n",
        "# Create a text box and button for user input\n",
        "cid_input = widgets.Text(value='', placeholder='Enter PubChem CID (e.g., 2519 for caffeine)', description='CID:')\n",
        "calculate_button = widgets.Button(description=\"Generate Frequency Report\")\n",
        "\n",
        "# Output area to display results\n",
        "output = widgets.Output()\n",
        "\n",
        "# Function to handle button click\n",
        "def on_calculate_button_click(b):\n",
        "    with output:\n",
        "        output.clear_output()  # Clear previous output\n",
        "        try:\n",
        "            cid = int(cid_input.value)\n",
        "            print(f\"Fetching molecule with CID: {cid}\")\n",
        "\n",
        "            # Fetch the molecule and generate 3D coordinates\n",
        "            atoms, coords = fetch_and_optimize_molecule(cid)\n",
        "\n",
        "            # Perform DFT calculation and analyze the frequencies\n",
        "            report, frequencies, thermo_data = calculate_and_analyze_frequencies(atoms, coords)\n",
        "\n",
        "            # Display the report\n",
        "            print(\"\\n--- Frequency Analysis Report ---\")\n",
        "            print(report)\n",
        "\n",
        "            # Plot the vibrational frequencies\n",
        "            plot_vibrational_frequencies(frequencies)\n",
        "\n",
        "            # Save the report as a text file\n",
        "            save_report_to_file(report, frequencies, thermo_data)\n",
        "            print(\"\\nReport saved as 'frequency_report.txt'.\")\n",
        "        except Exception as e:\n",
        "            print(f\"An error occurred: {e}\")\n",
        "\n",
        "# Attach the function to the button\n",
        "calculate_button.on_click(on_calculate_button_click)\n",
        "\n",
        "# Display the input box, button, and output area\n",
        "display(cid_input, calculate_button, output)\n",
        "\n",
        "# Function to fetch molecule from PubChem and generate 3D coordinates\n",
        "def fetch_and_optimize_molecule(cid):\n",
        "    # Fetch the molecule from PubChem\n",
        "    compound = pcp.Compound.from_cid(cid)\n",
        "    smiles = compound.canonical_smiles\n",
        "    print(f\"Molecule Name: {compound.iupac_name}\")\n",
        "    print(f\"Molecular Formula: {compound.molecular_formula}\")\n",
        "    print(f\"SMILES: {smiles}\")\n",
        "\n",
        "    # Convert SMILES to 3D structure using RDKit\n",
        "    mol = Chem.MolFromSmiles(smiles)\n",
        "    mol = Chem.AddHs(mol)  # Add hydrogens\n",
        "    AllChem.EmbedMolecule(mol)  # Generate 3D coordinates\n",
        "    AllChem.MMFFOptimizeMolecule(mol)  # Optimize geometry\n",
        "\n",
        "    # Extract atomic coordinates\n",
        "    conf = mol.GetConformer()\n",
        "    atoms = [mol.GetAtomWithIdx(i).GetSymbol() for i in range(mol.GetNumAtoms())]\n",
        "    coords = [conf.GetAtomPosition(i) for i in range(mol.GetNumAtoms())]\n",
        "\n",
        "    return atoms, coords\n",
        "\n",
        "# Function to perform DFT calculation and analyze frequencies\n",
        "def calculate_and_analyze_frequencies(atoms, coords):\n",
        "    # Define the molecule in PySCF\n",
        "    mol_pyscf = gto.Mole()\n",
        "    mol_pyscf.atom = [[atom, (coord.x, coord.y, coord.z)] for atom, coord in zip(atoms, coords)]\n",
        "    mol_pyscf.basis = 'sto-3g'  # Basis set\n",
        "    mol_pyscf.build()\n",
        "\n",
        "    # Perform DFT calculation\n",
        "    mf = dft.RKS(mol_pyscf)\n",
        "    mf.xc = 'b3lyp'  # Use B3LYP functional\n",
        "    mf.kernel()\n",
        "\n",
        "    # Calculate the Hessian matrix\n",
        "    hess = mf.Hessian().kernel()\n",
        "\n",
        "    # Perform frequency analysis\n",
        "    freq_info = thermo.harmonic_analysis(mol_pyscf, hess)\n",
        "\n",
        "    # Extract vibrational frequencies (in cm^-1)\n",
        "    frequencies = freq_info['freq_wavenumber']\n",
        "\n",
        "    # Perform thermodynamic analysis\n",
        "    thermo_data = thermo.thermo(mf, freq_info['freq_au'], temperature=298.15, pressure=1.0)\n",
        "\n",
        "    # Generate the report\n",
        "    report = f\"\"\"\n",
        "--- Frequency Analysis Report ---\n",
        "1. Molecule Information:\n",
        "   - Name: {pcp.Compound.from_cid(int(cid_input.value)).iupac_name}\n",
        "   - Molecular Formula: {pcp.Compound.from_cid(int(cid_input.value)).molecular_formula}\n",
        "   - SMILES: {pcp.Compound.from_cid(int(cid_input.value)).canonical_smiles}\n",
        "\n",
        "2. Vibrational Frequencies (cm^-1):\n",
        "\"\"\"\n",
        "    for i, freq in enumerate(frequencies):\n",
        "        report += f\"   - Mode {i+1}: {freq:.2f} cm^-1\\n\"\n",
        "\n",
        "    report += f\"\"\"\n",
        "3. Thermodynamic Properties:\n",
        "   - Zero-Point Energy: {thermo_data.get('ZPE', ('N/A', 'N/A'))[0]} Hartree\n",
        "   - Enthalpy: {thermo_data.get('H_tot', ('N/A', 'N/A'))[0]} Hartree\n",
        "   - Entropy: {thermo_data.get('S_tot', ('N/A', 'N/A'))[0]} Hartree/K\n",
        "\"\"\"\n",
        "\n",
        "    return report, frequencies, thermo_data\n",
        "\n",
        "# Function to plot the vibrational frequencies\n",
        "def plot_vibrational_frequencies(frequencies):\n",
        "    plt.figure(figsize=(8, 6))\n",
        "    plt.bar(range(1, len(frequencies) + 1), frequencies, color='blue')\n",
        "    plt.xlabel('Vibrational Mode')\n",
        "    plt.ylabel('Frequency (cm^-1)')\n",
        "    plt.title('Vibrational Frequencies of the Molecule')\n",
        "    plt.show()\n",
        "\n",
        "# Function to save the report to a file\n",
        "def save_report_to_file(report, frequencies, thermo_data):\n",
        "    with open('frequency_report.txt', 'w') as f:\n",
        "        f.write(report)\n",
        "        f.write(\"\\nVibrational Frequencies (cm^-1):\\n\")\n",
        "        for i, freq in enumerate(frequencies):\n",
        "            f.write(f\"Mode {i+1}: {freq:.2f} cm^-1\\n\")\n",
        "        f.write(\"\\nThermodynamic Properties:\\n\")\n",
        "        f.write(f\"Zero-Point Energy: {thermo_data.get('ZPE', ('N/A', 'N/A'))[0]} Hartree\\n\")\n",
        "        f.write(f\"Enthalpy: {thermo_data.get('H_tot', ('N/A', 'N/A'))[0]} Hartree\\n\")\n",
        "        f.write(f\"Entropy: {thermo_data.get('S_tot', ('N/A', 'N/A'))[0]} Hartree/K\\n\")"
      ],
      "metadata": {
        "cellView": "form",
        "id": "_QQBcCBb-gOz"
      },
      "execution_count": null,
      "outputs": []
    },
    {
      "cell_type": "markdown",
      "source": [
        "# Conclusion\n",
        "\"\"\"\n",
        "# Conclusion\n",
        "- Frequency calculations provide valuable insights into the vibrational properties of molecules.\n",
        "- These calculations are essential for interpreting experimental spectra (e.g., IR spectroscopy) and understanding molecular stability and reactivity.\n",
        "- By combining geometry optimization, Hessian calculations, and frequency analysis, we can fully characterize the vibrational behavior of a molecule.\n",
        "\"\"\""
      ],
      "metadata": {
        "id": "Bixst7YG8tJi"
      }
    }
  ]
}